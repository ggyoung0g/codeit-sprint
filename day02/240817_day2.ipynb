{
 "cells": [
  {
   "cell_type": "markdown",
   "metadata": {},
   "source": [
    "오늘은 리스트에 대해서 알아보는 시간을 가졌다!\n",
    "\n",
    "'그림으로 이해하는 알고리즘' 책에서 '1-2장'에 있는 리스트에 대한 개념을 한번 보고모였다!\n",
    "책으로 읽었을 때는 간단하게 이런 개념이구나하고 뭐야 쉽네? 했는데 막상\n",
    "코드로 직접 해보려고하니까 좀 막막했다 :(\n",
    "\n",
    "건웅님이 준비해주신 day2 자료와 함께 한번 더 개념을 이해하고\n",
    "동영상으로 연결리스트가 어떻게 돌아가는지 다같이 확인해보았다.\n",
    "동영상에서 제공해준 코드와 함께 진행과정을 보니까 머리로 이해까지 하였다!\n",
    "근데 이후에 코드를 직접 짜볼 때 할 수 있을까? 하긴하는데\n",
    "그래도.. 해보면 재밌을 것 같다 !"
   ]
  },
  {
   "cell_type": "markdown",
   "metadata": {},
   "source": [
    "유튜브 강의 참고\n",
    "https://www.youtube.com/watch?v=dA8F4SPMnb0"
   ]
  },
  {
   "cell_type": "code",
   "execution_count": null,
   "metadata": {},
   "outputs": [],
   "source": [
    "class Node:\n",
    "    def __init__(self, data):\n",
    "        self.data = data\n",
    "        self.next = None\n",
    "\n",
    "class LinkedList():\n",
    "    def __init__(self):\n",
    "        init = Node('init')\n",
    "        self.head = init # 첫번째노드\n",
    "        self.tail = init # 마지막노드\n",
    "\n",
    "        self.현재노드 = None\n",
    "        self.데이터수 = 0\n",
    "\n",
    "    # def __len__(self):\n",
    "    #     return self.데이터수\n",
    "    \n",
    "    def append(self, data):\n",
    "        새로운노드 = Node(data)\n",
    "        self.tail.next = 새로운노드 # self.tail 에 있는 노드 next에 새로운노드를 넣기\n",
    "        self.tail = 새로운노드 # 마지막tail를 방금 들어온 노드로 바꿔주기\n",
    "        self.데이터수 += 1\n"
   ]
  },
  {
   "cell_type": "code",
   "execution_count": null,
   "metadata": {},
   "outputs": [],
   "source": [
    "l = LinkedList()\n",
    "l.append(10)\n",
    "l.append(20)\n",
    "l.append(30)\n",
    "l.append(40)\n",
    "l.append(50)\n",
    "l.append(15)"
   ]
  },
  {
   "cell_type": "code",
   "execution_count": null,
   "metadata": {},
   "outputs": [],
   "source": [
    "l.head.data\n",
    "l.head.next.data\n",
    "l.head.next.next.data\n",
    "\n",
    "l.tail.data"
   ]
  },
  {
   "cell_type": "code",
   "execution_count": null,
   "metadata": {},
   "outputs": [],
   "source": []
  },
  {
   "cell_type": "code",
   "execution_count": null,
   "metadata": {},
   "outputs": [],
   "source": []
  }
 ],
 "metadata": {
  "kernelspec": {
   "display_name": "Python 3",
   "language": "python",
   "name": "python3"
  },
  "language_info": {
   "codemirror_mode": {
    "name": "ipython",
    "version": 3
   },
   "file_extension": ".py",
   "mimetype": "text/x-python",
   "name": "python",
   "nbconvert_exporter": "python",
   "pygments_lexer": "ipython3",
   "version": "3.12.1"
  }
 },
 "nbformat": 4,
 "nbformat_minor": 2
}
