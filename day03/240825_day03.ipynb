{
 "cells": [
  {
   "cell_type": "markdown",
   "metadata": {},
   "source": [
    "---"
   ]
  },
  {
   "cell_type": "markdown",
   "metadata": {},
   "source": [
    "오늘은 연결리스트를 직접 코드 짜보는 시간을 가졌다. <br/>\n",
    "미리 조금 생각해두고 코드를 작성해와서 앞부분은 수월하게 했는데 삭제에서 막혀버렸다-_- <br/>\n",
    "그리고 나는 class Node에서 next를 파라미터를 지정해주지 않았었는데, 건웅님이 지정해주신 것보고 설명을 들은 이후에<br/>\n",
    "그 방식이 더 괜찮은 것 같아서 수정했다 ! 또 length 도 안해놨는데 해두면 내가 리스트의 길이를 알 수 있으니까 <br/>\n",
    "설정해두는게 더 편할 것 같기도하다. (길이를 몰라서 못했던 부분들도 있었기때문에 그부분들을 다시 수정해볼 수 있지않을까? 하는 생각과 함께..) <br/>\n",
    "다음 시간에는 삭제하는 부분까지 다 완성시키고 싶다 ㅠ.ㅠ!"
   ]
  },
  {
   "cell_type": "markdown",
   "metadata": {},
   "source": [
    "---"
   ]
  },
  {
   "cell_type": "markdown",
   "metadata": {},
   "source": [
    "# 실습"
   ]
  },
  {
   "cell_type": "markdown",
   "metadata": {},
   "source": [
    "### 구조와 기능\n",
    "\n",
    "1. 연결 리스트 구조 및 노드 생성\n",
    "2. 노드 추가 / 삽입\n",
    "3. 연결 리스트 출력\n",
    "4. 노드 탐색 / 출력\n",
    "5. 노드 삭제\n",
    "6. 노드 개수 세기\n"
   ]
  },
  {
   "cell_type": "code",
   "execution_count": 1,
   "metadata": {},
   "outputs": [],
   "source": [
    "class Node:\n",
    "    def __init__(self, data): #, next=None) -> None: #->  데이터타입 을 적어둔 것\n",
    "        self.data = data # 자료\n",
    "        self.next = None # 다음노드주소\n",
    "        # node는 [ 데이터 | 주소 ] 이렇게 생김\n",
    "\n",
    "\n",
    "class LinkedList:\n",
    "    def __init__(self) -> None:\n",
    "        self.head = None\n",
    "        self.tail = None\n",
    "    \n",
    "    # def insert_at_beginning(self, data):\n",
    "    #     # 맨처음에 데이터 넣기\n",
    "    #     node = Node(data)\n",
    "    #     if not self.head: # head에 데이터가있는지없는지 확인\n",
    "    #         self.head = node\n",
    "    #         self.tail = node\n",
    "    #     else:\n",
    "    #         node.next = self.head\n",
    "    #         self.head = node\n",
    "\n",
    "    def insert_at(self, data, index = None):\n",
    "        # 데이터 넣기\n",
    "        node = Node(data)\n",
    "\n",
    "        # head에 데이터가 없으면 넣기 / 없는데 index를 입력하면 ? -> \n",
    "        if not self.head:\n",
    "            self.head = node\n",
    "            self.tail = node\n",
    "\n",
    "        # index가 없으면 맨끝에 집어넣는다\n",
    "        if index is None:\n",
    "            self.tail.next = node\n",
    "            self.tail = node\n",
    "        \n",
    "        # index = 0 맨앞에 집어넣기\n",
    "        if index == 0:\n",
    "            node.next = self.head\n",
    "            self.head = node\n",
    "        \n",
    "        # index 위치에 넣기\n",
    "            \n",
    "\n",
    "    \n",
    "    def print_ll(self):\n",
    "        # 데이터 전체 프린트 head.next.next.....이렇게붙혀야하는데 흠==\n",
    "        return self.head.data\n",
    "    \n",
    "    def iloc(self, index):\n",
    "        pass\n",
    "    \n",
    "    def remove_at(self, index):\n",
    "        pass\n",
    "    \n",
    "    def get_len(self):\n",
    "        pass    "
   ]
  },
  {
   "cell_type": "code",
   "execution_count": 2,
   "metadata": {},
   "outputs": [],
   "source": [
    "ll = LinkedList()\n",
    "# ll.insert_at_beginning(2)\n",
    "# ll.insert_at_beginning(1)\n",
    "# ll.insert_at_beginning(0)\n",
    "# ll.insert_at(4)\n",
    "# ll.insert_at(3, 3)\n",
    "ll.insert_at(1)\n",
    "ll.insert_at(2)\n",
    "ll.insert_at(3)\n",
    "ll.insert_at(0, 0)\n",
    "ll.insert_at(4)"
   ]
  },
  {
   "cell_type": "code",
   "execution_count": 7,
   "metadata": {},
   "outputs": [
    {
     "data": {
      "text/plain": [
       "2"
      ]
     },
     "execution_count": 7,
     "metadata": {},
     "output_type": "execute_result"
    }
   ],
   "source": [
    "ll.head.next.next.data"
   ]
  },
  {
   "cell_type": "code",
   "execution_count": 98,
   "metadata": {},
   "outputs": [
    {
     "data": {
      "text/plain": [
       "0"
      ]
     },
     "execution_count": 98,
     "metadata": {},
     "output_type": "execute_result"
    }
   ],
   "source": [
    "ll.print_ll()"
   ]
  },
  {
   "cell_type": "markdown",
   "metadata": {},
   "source": [
    "---"
   ]
  },
  {
   "cell_type": "code",
   "execution_count": 102,
   "metadata": {},
   "outputs": [],
   "source": [
    "class Node:\n",
    "    def __init__(self, data, next=None): #, next=None) -> None:\n",
    "        self.data = data # 자료\n",
    "        self.next = next # 다음노드주소\n",
    "\n",
    "        length = 0 # 길이 -> for문할때 링크길이가 몇인지 모르니까 (len을해줄수없으니까) 우리가 따로 세주는것!\n",
    "\n",
    "class LinkedList:\n",
    "    def __init__(self) -> None:\n",
    "        self.head = None\n",
    "        self.tail = None\n",
    "\n",
    "    def append(self, value):\n",
    "        # 맨끝에\n",
    "        node = Node(value)\n",
    "        if not self.head:\n",
    "            self.head = node\n",
    "            self.tail = node\n",
    "        else:\n",
    "            self.tail.next = node\n",
    "            self.tail = node\n",
    "\n",
    "    def prepend(self, value):\n",
    "        # 맨앞에\n",
    "        # node = Node(value)\n",
    "        # if not self.head:\n",
    "        #     self.head = node\n",
    "        #     self.tail = node\n",
    "        # else:\n",
    "        #     node.next = self.head\n",
    "        #     self.head = node\n",
    "\n",
    "        # Node __init__에 next = None 을 넣었을 때,,\n",
    "        if not self.head:\n",
    "            node = Node(value)\n",
    "            self.head = node\n",
    "            self.tail = node\n",
    "        else:\n",
    "            node = Node(value, self.head)\n",
    "            self.head = node\n",
    "\n",
    "    def insert_after(self, node_value, value):\n",
    "        # 해당 데이터 뒤에 넣기\n",
    "        find_node = self.find(node_value)\n",
    "\n",
    "        # node_valu가 없을 때\n",
    "        if not find_node:\n",
    "            print(f\"같은 값을 찾지 못했습니다. : {node_value}\")\n",
    "            return\n",
    "\n",
    "        in_node = Node(value)\n",
    "        \n",
    "        in_node.next = find_node.next\n",
    "        find_node.next = in_node\n",
    "\n",
    "        # find_node = self.head\n",
    "        # while True:\n",
    "        #     if find_node.data == node:\n",
    "        #         in_node.next = find_node.next\n",
    "        #         find_node.next = in_node\n",
    "        #         break\n",
    "        #     else:\n",
    "        #         find_node = find_node.next\n",
    "\n",
    "    def delete(self, value):\n",
    "        # 값에 해당하는 노드 삭제\n",
    "        find_node = self.find(value)\n",
    "        find_node.next\n",
    "\n",
    "\n",
    "    def delete_head(self):\n",
    "        # 맨앞 삭제\n",
    "        self.head = self.head.next\n",
    "\n",
    "    def delete_tail(self):\n",
    "        # 맨뒤 삭제\n",
    "        pass\n",
    "\n",
    "    def delete_after(node):\n",
    "        # 해당노드 뒤 삭제\n",
    "        pass\n",
    "\n",
    "    def find(self, value):\n",
    "        find_node = self.head\n",
    "        while find_node:\n",
    "            if find_node.data == value:\n",
    "                return find_node\n",
    "            find_node = find_node.next\n",
    "        return None # 같은 값을 못찾았을 때"
   ]
  },
  {
   "cell_type": "code",
   "execution_count": 100,
   "metadata": {},
   "outputs": [
    {
     "name": "stdout",
     "output_type": "stream",
     "text": [
      "같은 값을 찾지 못했습니다. : 5\n"
     ]
    }
   ],
   "source": [
    "ll = LinkedList()\n",
    "ll.append(1)\n",
    "ll.append(2)\n",
    "ll.append(4)\n",
    "ll.insert_after(2,3)\n",
    "ll.prepend(0)\n",
    "ll.insert_after(5,6)"
   ]
  },
  {
   "cell_type": "code",
   "execution_count": 68,
   "metadata": {},
   "outputs": [
    {
     "data": {
      "text/plain": [
       "3"
      ]
     },
     "execution_count": 68,
     "metadata": {},
     "output_type": "execute_result"
    }
   ],
   "source": [
    "ll.head.next.next.next.data"
   ]
  },
  {
   "cell_type": "code",
   "execution_count": 56,
   "metadata": {},
   "outputs": [],
   "source": [
    "ll = LinkedList()\n",
    "ll.append('김상민')\n",
    "ll.append('박건웅')\n",
    "ll.append('이다경')\n",
    "ll.insert_after('박건웅', '손동현')"
   ]
  },
  {
   "cell_type": "code",
   "execution_count": 103,
   "metadata": {},
   "outputs": [],
   "source": [
    "ll = LinkedList()\n",
    "ll.append('김상민')\n",
    "ll.append('박건웅')\n",
    "ll.append('이다경')\n",
    "ll.insert_after('박건웅', '손동현')\n",
    "ll.prepend('자알팀 : ')\n",
    "ll.delete_head()"
   ]
  },
  {
   "cell_type": "code",
   "execution_count": 98,
   "metadata": {},
   "outputs": [
    {
     "data": {
      "text/plain": [
       "<__main__.Node at 0x1ee69b77140>"
      ]
     },
     "execution_count": 98,
     "metadata": {},
     "output_type": "execute_result"
    }
   ],
   "source": [
    "ll.find('이다경')"
   ]
  },
  {
   "cell_type": "code",
   "execution_count": 104,
   "metadata": {},
   "outputs": [
    {
     "data": {
      "text/plain": [
       "'김상민'"
      ]
     },
     "execution_count": 104,
     "metadata": {},
     "output_type": "execute_result"
    }
   ],
   "source": [
    "ll.head.data"
   ]
  },
  {
   "cell_type": "markdown",
   "metadata": {},
   "source": [
    "필요없는 주석 지우고 완성본!.!"
   ]
  },
  {
   "cell_type": "code",
   "execution_count": null,
   "metadata": {},
   "outputs": [],
   "source": [
    "class Node:\n",
    "    def __init__(self, data, next=None): #, next=None) -> None:\n",
    "        self.data = data # 자료\n",
    "        self.next = next # 다음노드주소\n",
    "\n",
    "class LinkedList:\n",
    "    def __init__(self) -> None:\n",
    "        self.head = None\n",
    "        self.tail = None\n",
    "\n",
    "    def append(self, value):\n",
    "        # 맨끝에\n",
    "        node = Node(value)\n",
    "        if not self.head:\n",
    "            self.head = node\n",
    "            self.tail = node\n",
    "        else:\n",
    "            self.tail.next = node\n",
    "            self.tail = node\n",
    "\n",
    "    def prepend(self, value):\n",
    "        # 맨앞에\n",
    "        if not self.head:\n",
    "            node = Node(value)\n",
    "            self.head = node\n",
    "            self.tail = node\n",
    "        else:\n",
    "            node = Node(value, self.head)\n",
    "            self.head = node\n",
    "\n",
    "\n",
    "    def insert_after(self, node_value, value):\n",
    "        # 해당 데이터 뒤에 넣기\n",
    "        find_node = self.find(node_value)\n",
    "\n",
    "        # node_valu가 없을 때\n",
    "        if not find_node:\n",
    "            print(f\"같은 값을 찾지 못했습니다. : {node_value}\")\n",
    "            return\n",
    "\n",
    "        in_node = Node(value)\n",
    "        in_node.next = find_node.next\n",
    "        find_node.next = in_node\n",
    "\n",
    "\n",
    "    def delete_head(self):\n",
    "        # 맨앞 삭제\n",
    "        self.head = self.head.next\n",
    "\n",
    "    def delete_tail():\n",
    "        # 맨뒤 삭제\n",
    "        pass\n",
    "\n",
    "    def delete_after(node_value):\n",
    "        # 해당노드 뒤 삭제\n",
    "        pass\n",
    "\n",
    "    def find(self, value):\n",
    "        find_node = self.head\n",
    "        while find_node:\n",
    "            if find_node.data == value:\n",
    "                return find_node\n",
    "            find_node = find_node.next\n",
    "        return None # 같은 값을 못찾았을 때"
   ]
  },
  {
   "cell_type": "markdown",
   "metadata": {},
   "source": [
    "---"
   ]
  },
  {
   "cell_type": "markdown",
   "metadata": {},
   "source": [
    "Linked List\n",
    "1. Insertion Methods <br/>\n",
    "append(value): Adds a new node with the given value to the end of the list. <br/>\n",
    "prepend(value): Adds a new node with the given value to the beginning of the list. <br/>\n",
    "insert_after(node, value): Inserts a new node with the given value after a specified node in the list. <br/>\n",
    "\n",
    "2. Deletion Methods\n",
    "delete(value): Removes the first node with the specified value from the list. <br/>\n",
    "delete_head(): Removes the head (first node) of the list. <br/>\n",
    "delete_tail(): Removes the tail (last node) of the list. <br/>\n",
    "delete_after(node): Removes the node immediately following the specified node. <br/>\n",
    "\n",
    "3. Traversal Methods <br/>\n",
    "find(value): Searches for a node containing the specified value and returns it if found. <br/>\n",
    "traverse(): Iterates over all nodes in the list, typically used to print the values or perform some action on each node. <br/>\n",
    "\n",
    "4. Utility Methods\n",
    "size(): Returns the number of nodes in the list. <br/>\n",
    "is_empty(): Checks if the list is empty. <br/>\n",
    "reverse(): Reverses the order of the nodes in the list. <br/>\n",
    "get_head(): Returns the head (first node) of the list. <br/>\n",
    "get_tail(): Returns the tail (last node) of the list. <br/>\n",
    "\n",
    "5. Display Method\n",
    "__str__() or __repr__(): Provides a string representation of the list for easy visualization. <br/>\n",
    "\n",
    "6. Optional Methods\n",
    "sort(): Sorts the elements of the linked list. <br/>\n",
    "merge(other_list): Merges another linked list into the current list. <br/>"
   ]
  },
  {
   "cell_type": "markdown",
   "metadata": {},
   "source": [
    "Doubly Linked List\n",
    "1. Insertion Methods <br/>\n",
    "append(value): Adds a new node with the given value to the end of the list. <br/>\n",
    "prepend(value): Adds a new node with the given value to the beginning of the list. <br/>\n",
    "insert_after(node, value): Inserts a new node with the given value after a specified node. <br/>\n",
    "insert_before(node, value): Inserts a new node with the given value before a specified node. <br/>\n",
    "\n",
    "2. Deletion Methods\n",
    "delete(value): Removes the first node with the specified value from the list. <br/>\n",
    "delete_head(): Removes the head (first node) of the list. <br/>\n",
    "delete_tail(): Removes the tail (last node) of the list. <br/>\n",
    "delete_node(node): Removes a specific node from the list. <br/>\n",
    "\n",
    "3. Traversal Methods\n",
    "find(value): Searches for a node containing the specified value and returns it if found. <br/>\n",
    "traverse_forward(): Iterates over the list from the head to the tail, typically used to print the values or perform some action on each node. <br/>\n",
    "traverse_backward(): Iterates over the list from the tail to the head, useful for certain algorithms or simply to display the list in reverse order. <br/>\n",
    "\n",
    "4. Utility Methods\n",
    "size(): Returns the number of nodes in the list. <br/>\n",
    "is_empty(): Checks if the list is empty. <br/>\n",
    "reverse(): Reverses the order of the nodes in the list by swapping the next and previous pointers. <br/>\n",
    "get_head(): Returns the head (first node) of the list. <br/>\n",
    "get_tail(): Returns the tail (last node) of the list. <br/>\n",
    "\n",
    "5. Display Methods\n",
    "__str__() or __repr__(): Provides a string representation of the list for easy visualization, either forward or backward. <br/>\n",
    "\n",
    "6. Optional Methods\n",
    "sort(): Sorts the elements of the doubly linked list. <br/>\n",
    "merge(other_list): Merges another doubly linked list into the current list. <br/>"
   ]
  },
  {
   "cell_type": "markdown",
   "metadata": {},
   "source": [
    "---"
   ]
  },
  {
   "cell_type": "markdown",
   "metadata": {},
   "source": [
    "### 연결 리스트 실행"
   ]
  },
  {
   "cell_type": "markdown",
   "metadata": {},
   "source": [
    "1. 연결 리스트 생성"
   ]
  },
  {
   "cell_type": "code",
   "execution_count": 6,
   "metadata": {},
   "outputs": [],
   "source": [
    "ll = LinkedList()"
   ]
  },
  {
   "cell_type": "markdown",
   "metadata": {},
   "source": [
    "2. 노드 추가 / 삽입"
   ]
  },
  {
   "cell_type": "code",
   "execution_count": null,
   "metadata": {},
   "outputs": [],
   "source": [
    "ll.insert_at(0, 1)\n",
    "ll.insert_at(1, 2)\n",
    "ll.insert_at(2, 3)\n",
    "ll.insert_at(3, 4)\n",
    "ll.insert_at(2, 2.5)"
   ]
  },
  {
   "cell_type": "markdown",
   "metadata": {},
   "source": [
    "3. 연결 리스트 출력\n",
    "\n",
    "expected output:  \n",
    "\n",
    "`1 -> 2 -> 2.5 -> 3 -> 4`"
   ]
  },
  {
   "cell_type": "code",
   "execution_count": null,
   "metadata": {},
   "outputs": [],
   "source": [
    "ll.print_ll()"
   ]
  },
  {
   "cell_type": "markdown",
   "metadata": {},
   "source": [
    "4. 노드 탐색 / 출력\n",
    "\n",
    "expected output:  \n",
    "\n",
    "`2.5`"
   ]
  },
  {
   "cell_type": "code",
   "execution_count": 7,
   "metadata": {},
   "outputs": [],
   "source": [
    "ll.iloc(2)"
   ]
  },
  {
   "cell_type": "markdown",
   "metadata": {},
   "source": [
    "5. 노드 삭제  \n",
    "\n",
    "expected output:  \n",
    "\n",
    "`1 -> 2 -> 3 -> 4`"
   ]
  },
  {
   "cell_type": "code",
   "execution_count": 8,
   "metadata": {},
   "outputs": [],
   "source": [
    "ll.remove_at(2)\n",
    "ll.print_ll()"
   ]
  },
  {
   "cell_type": "markdown",
   "metadata": {},
   "source": [
    "6. 노드 개수 세기\n",
    "\n",
    "expected output:\n",
    "\n",
    "`4`"
   ]
  },
  {
   "cell_type": "code",
   "execution_count": 9,
   "metadata": {},
   "outputs": [],
   "source": [
    "ll.get_len()"
   ]
  },
  {
   "cell_type": "markdown",
   "metadata": {},
   "source": [
    "# 심화 실습"
   ]
  },
  {
   "cell_type": "markdown",
   "metadata": {},
   "source": [
    "양방향 연결 리스트(Doubly Linked List)를 구현해보세요."
   ]
  },
  {
   "cell_type": "code",
   "execution_count": null,
   "metadata": {},
   "outputs": [],
   "source": [
    "class Node:\n",
    "    def __init__(self, data=None, prev=None, next=None) -> None:\n",
    "        self.prev = prev\n",
    "        self.data = data\n",
    "        self.next = next\n",
    "\n",
    "class DoublyLinkedList:\n",
    "    def __init__(self) -> None:\n",
    "        self.head = None\n",
    "    \n",
    "    def insert_at(self):\n",
    "        pass\n",
    "    \n",
    "    def print_forward(self):\n",
    "        pass\n",
    "    \n",
    "    def print_backward(self):\n",
    "        pass\n",
    "    \n",
    "    def iloc(self):\n",
    "        pass\n",
    "    \n",
    "    def remove_at(self):\n",
    "        pass\n",
    "    \n",
    "    def get_len(self):\n",
    "        pass    "
   ]
  },
  {
   "cell_type": "markdown",
   "metadata": {},
   "source": [
    "### 양방향 연결 리스트 실행"
   ]
  },
  {
   "cell_type": "markdown",
   "metadata": {},
   "source": [
    "1. 연결 리스트 생성"
   ]
  },
  {
   "cell_type": "code",
   "execution_count": null,
   "metadata": {},
   "outputs": [],
   "source": [
    "dll = DoublyLinkedList()"
   ]
  },
  {
   "cell_type": "markdown",
   "metadata": {},
   "source": [
    "2. 노드 추가 / 삽입"
   ]
  },
  {
   "cell_type": "code",
   "execution_count": null,
   "metadata": {},
   "outputs": [],
   "source": [
    "dll.insert_at(1, 2)\n",
    "dll.insert_at(2, 3)\n",
    "dll.insert_at(3, 4)\n",
    "dll.insert_at(0, 1)\n",
    "dll.insert_at(2, 2.5)"
   ]
  },
  {
   "cell_type": "markdown",
   "metadata": {},
   "source": [
    "3. 연결 리스트 출력\n",
    "\n",
    "expected output:  \n",
    "\n",
    "`1 -> 2 -> 2.5 -> 3 -> 4`  \n",
    "`4 -> 3 - > 2.5 -> 2 -> 1`"
   ]
  },
  {
   "cell_type": "code",
   "execution_count": null,
   "metadata": {},
   "outputs": [],
   "source": [
    "dll.print_forward()\n",
    "dll.print_backward()"
   ]
  },
  {
   "cell_type": "markdown",
   "metadata": {},
   "source": [
    "4. 노드 탐색 / 출력\n",
    "\n",
    "expected output:  \n",
    "\n",
    "`2.5`"
   ]
  },
  {
   "cell_type": "code",
   "execution_count": null,
   "metadata": {},
   "outputs": [],
   "source": [
    "dll.iloc(2)"
   ]
  },
  {
   "cell_type": "markdown",
   "metadata": {},
   "source": [
    "5. 노드 삭제  \n",
    "\n",
    "expected output:  \n",
    "\n",
    "`1 -> 2 -> 3 -> 4`  \n",
    "`4 -> 3 -> 2 -> 1`"
   ]
  },
  {
   "cell_type": "code",
   "execution_count": null,
   "metadata": {},
   "outputs": [],
   "source": [
    "dll.remove_at(2)\n",
    "dll.print_forward()\n",
    "dll.print_backward()"
   ]
  },
  {
   "cell_type": "markdown",
   "metadata": {},
   "source": [
    "6. 노드 개수 세기\n",
    "\n",
    "expected output:\n",
    "\n",
    "`4`"
   ]
  },
  {
   "cell_type": "code",
   "execution_count": null,
   "metadata": {},
   "outputs": [],
   "source": [
    "dll.get_len()"
   ]
  }
 ],
 "metadata": {
  "kernelspec": {
   "display_name": "Python 3",
   "language": "python",
   "name": "python3"
  },
  "language_info": {
   "codemirror_mode": {
    "name": "ipython",
    "version": 3
   },
   "file_extension": ".py",
   "mimetype": "text/x-python",
   "name": "python",
   "nbconvert_exporter": "python",
   "pygments_lexer": "ipython3",
   "version": "3.12.1"
  }
 },
 "nbformat": 4,
 "nbformat_minor": 2
}
