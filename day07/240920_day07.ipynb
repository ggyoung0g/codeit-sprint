{
 "cells": [
  {
   "cell_type": "markdown",
   "metadata": {},
   "source": [
    "# 코딩테스트 연습"
   ]
  },
  {
   "cell_type": "markdown",
   "metadata": {},
   "source": [
    "## 1. 완전탐색"
   ]
  },
  {
   "cell_type": "markdown",
   "metadata": {},
   "source": [
    "### 2) 모의고사"
   ]
  },
  {
   "cell_type": "markdown",
   "metadata": {},
   "source": [
    "시험은 최대 10,000문제 <br/>\n",
    "answers이 정답번호\n",
    "\n",
    "수포자1 = [1, 2, 3, 4, 5] <br/>\n",
    "수포자2 = [2, 1, 2, 3, 2, 4, 2, 5] <br/>\n",
    "수포자3 = [3, 3, 1, 1, 2, 2, 4, 4, 5, 5] <br/>"
   ]
  },
  {
   "cell_type": "code",
   "execution_count": 50,
   "metadata": {},
   "outputs": [],
   "source": [
    "answers = [1, 3, 2, 4, 2]\n",
    "\n",
    "a1 = [1, 2, 3, 4, 5]\n",
    "a2 = [2, 1, 2, 3, 2, 4, 2, 5]\n",
    "a3 = [3, 3, 1, 1, 2, 2, 4, 4, 5, 5]"
   ]
  },
  {
   "cell_type": "markdown",
   "metadata": {},
   "source": [
    "*참고* - % 을 사용해서 할 수 있을 것 같다!"
   ]
  },
  {
   "attachments": {
    "image.png": {
     "image/png": "[encoded data removed]"
    }
   },
   "cell_type": "markdown",
   "metadata": {},
   "source": [
    "![image.png](attachment:image.png)"
   ]
  },
  {
   "cell_type": "code",
   "execution_count": 51,
   "metadata": {},
   "outputs": [],
   "source": [
    "def def_answer(student, answers):\n",
    "    ans = 0\n",
    "    for i in range(0, len(answers)):\n",
    "        if student[i % len(student)] == answers[i]:\n",
    "            ans += 1\n",
    "\n",
    "    return ans"
   ]
  },
  {
   "cell_type": "code",
   "execution_count": 52,
   "metadata": {},
   "outputs": [],
   "source": [
    "a1_answer = def_answer(a1, answers)\n",
    "a2_answer = def_answer(a2, answers)\n",
    "a3_answer = def_answer(a3, answers)"
   ]
  },
  {
   "cell_type": "code",
   "execution_count": 53,
   "metadata": {},
   "outputs": [],
   "source": [
    "answer = []\n",
    "answer_list = [a1_answer, a2_answer, a3_answer]\n",
    "\n",
    "for i in range(len(answer_list)):\n",
    "    if max(answer_list) == answer_list[i]:\n",
    "        answer.append(i+1)"
   ]
  },
  {
   "cell_type": "code",
   "execution_count": 54,
   "metadata": {},
   "outputs": [
    {
     "data": {
      "text/plain": [
       "[2, 2, 2]"
      ]
     },
     "execution_count": 54,
     "metadata": {},
     "output_type": "execute_result"
    }
   ],
   "source": [
    "answer_list"
   ]
  },
  {
   "cell_type": "code",
   "execution_count": 55,
   "metadata": {},
   "outputs": [
    {
     "data": {
      "text/plain": [
       "[1, 2, 3]"
      ]
     },
     "execution_count": 55,
     "metadata": {},
     "output_type": "execute_result"
    }
   ],
   "source": [
    "answer"
   ]
  },
  {
   "cell_type": "code",
   "execution_count": 61,
   "metadata": {},
   "outputs": [],
   "source": [
    "def def_answer(student, answers):\n",
    "    ans = 0\n",
    "    for i in range(0, len(answers)):\n",
    "        if student[i % len(student)] == answers[i]:\n",
    "            ans += 1\n",
    "\n",
    "    return ans\n",
    "\n",
    "def solution(answers):\n",
    "    answer = []\n",
    "    a1 = [1, 2, 3, 4, 5]\n",
    "    a2 = [2, 1, 2, 3, 2, 4, 2, 5]\n",
    "    a3 = [3, 3, 1, 1, 2, 2, 4, 4, 5, 5]\n",
    "\n",
    "    a1_answer = def_answer(a1, answers)\n",
    "    a2_answer = def_answer(a2, answers)\n",
    "    a3_answer = def_answer(a3, answers)\n",
    "    \n",
    "    answer_list = [a1_answer, a2_answer, a3_answer]\n",
    "\n",
    "    for i in range(len(answer_list)):\n",
    "        if max(answer_list) == answer_list[i]:\n",
    "            answer.append(i+1)\n",
    "            \n",
    "    return answer"
   ]
  },
  {
   "cell_type": "code",
   "execution_count": 62,
   "metadata": {},
   "outputs": [
    {
     "data": {
      "text/plain": [
       "[2]"
      ]
     },
     "execution_count": 62,
     "metadata": {},
     "output_type": "execute_result"
    }
   ],
   "source": [
    "answers = [1, 4, 5, 1, 4, 3, 2, 1, 2, 1, 2]\n",
    "solution(answers)"
   ]
  },
  {
   "cell_type": "markdown",
   "metadata": {},
   "source": [
    "range를 enumerate를 사용해서 할 수 있음ㅠ.ㅠ <br/>\n",
    "idx와 answer 둘 다 필요하니까 enumerate를 사용하면 더 간결하게 코드를 사용할 수 있다는걸잊지말자.. <br/>"
   ]
  },
  {
   "cell_type": "code",
   "execution_count": 64,
   "metadata": {},
   "outputs": [],
   "source": [
    "def solution(answers):\n",
    "    answer = []\n",
    "    a1 = [1, 2, 3, 4, 5]\n",
    "    a2 = [2, 1, 2, 3, 2, 4, 2, 5]\n",
    "    a3 = [3, 3, 1, 1, 2, 2, 4, 4, 5, 5]\n",
    "    scores = [0, 0, 0]\n",
    "\n",
    "    for idx, result in enumerate(answers):\n",
    "        if result == a1[idx % len(a1)]:\n",
    "            scores[0] += 1\n",
    "\n",
    "        if result == a2[idx % len(a2)]:\n",
    "            scores[1] += 1\n",
    "\n",
    "        if result == a3[idx % len(a3)]:\n",
    "            scores[2] += 1\n",
    "        \n",
    "    for idx, score in enumerate(scores):\n",
    "        if max(scores) == score:\n",
    "            answer.append(idx+1)\n",
    "            \n",
    "    return answer"
   ]
  },
  {
   "cell_type": "markdown",
   "metadata": {},
   "source": [
    "---"
   ]
  },
  {
   "cell_type": "markdown",
   "metadata": {},
   "source": [
    "### 3) 소수찾기"
   ]
  },
  {
   "cell_type": "markdown",
   "metadata": {},
   "source": [
    "- numbers는 길이 1 이상 7이하 인 문자열\n",
    "- numbers는 0~9까지 숫자만으로 이루어짐\n",
    "- numbers를 조합해서 소수인 숫자를 찾아라 (answer)"
   ]
  },
  {
   "cell_type": "markdown",
   "metadata": {},
   "source": [
    "순열..을 해야할 것 같은데 이걸 코드를 다만들어야되나 하던 찰나 -> 해당 관련해서 건웅님이 도움주심 <br/>\n",
    "코테에서 내장함수는 써도 된다고 해서 알려주심! <br/>\n",
    "https://velog.io/@rhdmstj17/%EC%88%9C%EC%97%B4-%EC%A4%91%EB%B3%B5%EC%88%9C%EC%97%B4-%EC%A1%B0%ED%95%A9-%EC%A4%91%EB%B3%B5%EC%A1%B0%ED%95%A9-%EC%A7%81%EC%A0%91-%EC%9D%B4%ED%95%B4%ED%95%98%EA%B3%A0-%EA%B5%AC%ED%98%84%ED%95%98%EA%B8%B0-python-itertools-%EB%9D%BC%EC%9D%B4%EB%B8%8C%EB%9F%AC%EB%A6%AC#%EC%88%9C%EC%97%B4permutations\n",
    "내용참고"
   ]
  },
  {
   "cell_type": "markdown",
   "metadata": {},
   "source": [
    "1. 순열 (단, 011 = 11 은 동일한 숫자)\n",
    "2. 소수인 숫자만"
   ]
  },
  {
   "cell_type": "code",
   "execution_count": 84,
   "metadata": {},
   "outputs": [],
   "source": [
    "from itertools import permutations\n",
    "\n",
    "per_list = []\n",
    "\n",
    "for i in permutations([1, 3, 1], 3):\n",
    "\tper_list.append(i)"
   ]
  },
  {
   "cell_type": "code",
   "execution_count": 81,
   "metadata": {},
   "outputs": [
    {
     "data": {
      "text/plain": [
       "[(1,), (3,), (1,)]"
      ]
     },
     "execution_count": 81,
     "metadata": {},
     "output_type": "execute_result"
    }
   ],
   "source": [
    "per_list"
   ]
  },
  {
   "cell_type": "code",
   "execution_count": 83,
   "metadata": {},
   "outputs": [
    {
     "data": {
      "text/plain": [
       "[(1, 3), (1, 1), (3, 1), (3, 1), (1, 1), (1, 3)]"
      ]
     },
     "execution_count": 83,
     "metadata": {},
     "output_type": "execute_result"
    }
   ],
   "source": [
    "per_list"
   ]
  },
  {
   "cell_type": "code",
   "execution_count": 85,
   "metadata": {},
   "outputs": [
    {
     "data": {
      "text/plain": [
       "[(1, 3, 1), (1, 1, 3), (3, 1, 1), (3, 1, 1), (1, 1, 3), (1, 3, 1)]"
      ]
     },
     "execution_count": 85,
     "metadata": {},
     "output_type": "execute_result"
    }
   ],
   "source": [
    "per_list"
   ]
  }
 ],
 "metadata": {
  "kernelspec": {
   "display_name": "Python 3",
   "language": "python",
   "name": "python3"
  },
  "language_info": {
   "codemirror_mode": {
    "name": "ipython",
    "version": 3
   },
   "file_extension": ".py",
   "mimetype": "text/x-python",
   "name": "python",
   "nbconvert_exporter": "python",
   "pygments_lexer": "ipython3",
   "version": "3.12.1"
  }
 },
 "nbformat": 4,
 "nbformat_minor": 2
}
