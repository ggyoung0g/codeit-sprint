{
 "cells": [
  {
   "cell_type": "markdown",
   "metadata": {},
   "source": [
    "# 코딩테스트 연습"
   ]
  },
  {
   "cell_type": "markdown",
   "metadata": {},
   "source": [
    "## 1. 완전탐색"
   ]
  },
  {
   "cell_type": "markdown",
   "metadata": {},
   "source": [
    "### 3) 소수찾기"
   ]
  },
  {
   "cell_type": "markdown",
   "metadata": {},
   "source": [
    "- numbers는 길이 1 이상 7이하 인 문자열\n",
    "- numbers는 0~9까지 숫자만으로 이루어짐\n",
    "- numbers를 조합해서 소수인 숫자를 찾아라 (answer)"
   ]
  },
  {
   "cell_type": "markdown",
   "metadata": {},
   "source": [
    "순열..을 해야할 것 같은데 이걸 코드를 다만들어야되나 하던 찰나 -> 해당 관련해서 건웅님이 도움주심 <br/>\n",
    "코테에서 내장함수는 써도 된다고 해서 알려주심! <br/>\n",
    "https://velog.io/@rhdmstj17/%EC%88%9C%EC%97%B4-%EC%A4%91%EB%B3%B5%EC%88%9C%EC%97%B4-%EC%A1%B0%ED%95%A9-%EC%A4%91%EB%B3%B5%EC%A1%B0%ED%95%A9-%EC%A7%81%EC%A0%91-%EC%9D%B4%ED%95%B4%ED%95%98%EA%B3%A0-%EA%B5%AC%ED%98%84%ED%95%98%EA%B8%B0-python-itertools-%EB%9D%BC%EC%9D%B4%EB%B8%8C%EB%9F%AC%EB%A6%AC#%EC%88%9C%EC%97%B4permutations\n",
    "내용참고"
   ]
  },
  {
   "cell_type": "markdown",
   "metadata": {},
   "source": [
    "1. 순열 (단, 011 = 11 은 동일한 숫자)\n",
    "2. 소수인 숫자만"
   ]
  },
  {
   "cell_type": "code",
   "execution_count": 23,
   "metadata": {},
   "outputs": [],
   "source": [
    "from itertools import permutations\n",
    "\n",
    "per_list = []\n",
    "\n",
    "for i in permutations([1, 3, 1], 3):\n",
    "\tper_list.append(i)"
   ]
  },
  {
   "cell_type": "code",
   "execution_count": 24,
   "metadata": {},
   "outputs": [
    {
     "data": {
      "text/plain": [
       "[(1, 3, 1), (1, 1, 3), (3, 1, 1), (3, 1, 1), (1, 1, 3), (1, 3, 1)]"
      ]
     },
     "execution_count": 24,
     "metadata": {},
     "output_type": "execute_result"
    }
   ],
   "source": [
    "per_list"
   ]
  },
  {
   "cell_type": "code",
   "execution_count": 26,
   "metadata": {},
   "outputs": [
    {
     "name": "stdout",
     "output_type": "stream",
     "text": [
      "131\n"
     ]
    }
   ],
   "source": [
    "print(per_list[0][0] * 100 + per_list[0][1] * 10 + per_list[0][2] * 1)"
   ]
  },
  {
   "cell_type": "code",
   "execution_count": 27,
   "metadata": {},
   "outputs": [],
   "source": [
    "per_list = []\n",
    "\n",
    "for i in permutations('131', 3):\n",
    "\tper_list.append(i)"
   ]
  },
  {
   "cell_type": "code",
   "execution_count": 28,
   "metadata": {},
   "outputs": [
    {
     "data": {
      "text/plain": [
       "[('1', '3', '1'),\n",
       " ('1', '1', '3'),\n",
       " ('3', '1', '1'),\n",
       " ('3', '1', '1'),\n",
       " ('1', '1', '3'),\n",
       " ('1', '3', '1')]"
      ]
     },
     "execution_count": 28,
     "metadata": {},
     "output_type": "execute_result"
    }
   ],
   "source": [
    "per_list"
   ]
  },
  {
   "cell_type": "code",
   "execution_count": 30,
   "metadata": {},
   "outputs": [
    {
     "name": "stdout",
     "output_type": "stream",
     "text": [
      "131\n"
     ]
    }
   ],
   "source": [
    "print(int(per_list[0][0]) * 100 + int(per_list[0][1]) * 10 + int(per_list[0][2]) * 1)"
   ]
  },
  {
   "cell_type": "code",
   "execution_count": 74,
   "metadata": {},
   "outputs": [],
   "source": [
    "numbers = \"011\"\n",
    "\n",
    "per_list = []\n",
    "\n",
    "for i in range(1, len(numbers)+1):\n",
    "    for j in permutations(numbers, i):\n",
    "        per_list.append(j)"
   ]
  },
  {
   "cell_type": "code",
   "execution_count": 33,
   "metadata": {},
   "outputs": [
    {
     "data": {
      "text/plain": [
       "[('1',), ('7',), ('1', '7'), ('7', '1')]"
      ]
     },
     "execution_count": 33,
     "metadata": {},
     "output_type": "execute_result"
    }
   ],
   "source": [
    "per_list"
   ]
  },
  {
   "cell_type": "code",
   "execution_count": 52,
   "metadata": {},
   "outputs": [
    {
     "data": {
      "text/plain": [
       "1"
      ]
     },
     "execution_count": 52,
     "metadata": {},
     "output_type": "execute_result"
    }
   ],
   "source": [
    "10**0"
   ]
  },
  {
   "cell_type": "code",
   "execution_count": 75,
   "metadata": {},
   "outputs": [],
   "source": [
    "int_list = []\n",
    "\n",
    "for idx, val in enumerate(per_list):\n",
    "    num = 0\n",
    "\n",
    "    for j in range(0, len(val)):\n",
    "        num += int(per_list[idx][j]) * 10**(len(val)-1-j)\n",
    "    \n",
    "    if num not in int_list:\n",
    "        int_list.append(num)"
   ]
  },
  {
   "cell_type": "code",
   "execution_count": 79,
   "metadata": {},
   "outputs": [
    {
     "data": {
      "text/plain": [
       "[0, 1, 10, 11, 101, 110]"
      ]
     },
     "execution_count": 79,
     "metadata": {},
     "output_type": "execute_result"
    }
   ],
   "source": [
    "int_list"
   ]
  },
  {
   "cell_type": "code",
   "execution_count": 82,
   "metadata": {},
   "outputs": [
    {
     "name": "stdout",
     "output_type": "stream",
     "text": [
      "소수입니다~\n"
     ]
    }
   ],
   "source": [
    "# 소수\n",
    "num = []\n",
    "for i in range(2, 11+1):\n",
    "    if 11 % i == 0:\n",
    "        num.append(i)\n",
    "\n",
    "if len(num) == 1:\n",
    "    print(\"소수입니다~\")\n",
    "else:\n",
    "    print(\"소수가 아닙니다~\")"
   ]
  },
  {
   "cell_type": "code",
   "execution_count": 86,
   "metadata": {},
   "outputs": [
    {
     "name": "stdout",
     "output_type": "stream",
     "text": [
      "0\n",
      "소수가 아닙니다~\n",
      "1\n",
      "소수가 아닙니다~\n",
      "10\n",
      "소수가 아닙니다~\n",
      "11\n",
      "소수입니다~\n",
      "101\n",
      "소수입니다~\n",
      "110\n",
      "소수가 아닙니다~\n"
     ]
    }
   ],
   "source": [
    "for i in int_list:\n",
    "    num = []\n",
    "    for j in range(2, i+1):\n",
    "        if i % j == 0:\n",
    "            num.append(j)\n",
    "\n",
    "    if len(num) == 1:\n",
    "        print(\"소수입니다~\")\n",
    "    else:\n",
    "        print(\"소수가 아닙니다~\")"
   ]
  },
  {
   "cell_type": "code",
   "execution_count": 87,
   "metadata": {},
   "outputs": [],
   "source": [
    "from itertools import permutations\n",
    "\n",
    "def solution(numbers):\n",
    "    answer = 0\n",
    "    per_list = []\n",
    "\n",
    "    for i in range(1, len(numbers)+1):\n",
    "        for j in permutations(numbers, i):\n",
    "            per_list.append(j)\n",
    "    \n",
    "    int_list = []\n",
    "\n",
    "    for idx, val in enumerate(per_list):\n",
    "        num = 0\n",
    "\n",
    "        for j in range(0, len(val)):\n",
    "            num += int(per_list[idx][j]) * 10**(len(val)-1-j)\n",
    "\n",
    "        if num not in int_list:\n",
    "            int_list.append(num)\n",
    "    \n",
    "    for i in int_list:\n",
    "        num = []\n",
    "        for j in range(2, i+1):\n",
    "            if i % j == 0:\n",
    "                num.append(j)\n",
    "\n",
    "        if len(num) == 1:\n",
    "            answer += 1\n",
    "        else:\n",
    "            pass\n",
    "    \n",
    "    return answer"
   ]
  },
  {
   "cell_type": "code",
   "execution_count": 88,
   "metadata": {},
   "outputs": [
    {
     "data": {
      "text/plain": [
       "2"
      ]
     },
     "execution_count": 88,
     "metadata": {},
     "output_type": "execute_result"
    }
   ],
   "source": [
    "solution(\"011\")"
   ]
  },
  {
   "attachments": {
    "image.png": {
     "image/png": "[encoded data removed]"
    }
   },
   "cell_type": "markdown",
   "metadata": {},
   "source": [
    "![image.png](attachment:image.png) <br/>\n",
    "첫번째 결과 시간초과로 실패.."
   ]
  },
  {
   "cell_type": "markdown",
   "metadata": {},
   "source": [
    "예상으로 짧은 numbers는 괜찮은데 문자열이 7개인경우 길어지면서 시간이 초과되는 것 같음."
   ]
  },
  {
   "cell_type": "markdown",
   "metadata": {},
   "source": [
    "---"
   ]
  },
  {
   "cell_type": "code",
   "execution_count": 117,
   "metadata": {},
   "outputs": [],
   "source": [
    "from itertools import permutations\n",
    "\n",
    "def solution(numbers):\n",
    "    answer = 0\n",
    "    per_list = []\n",
    "\n",
    "    for i in range(1, len(numbers)+1):\n",
    "        for val in permutations(numbers, i):\n",
    "            num = 0\n",
    "            for j in range(0, len(val)):\n",
    "                num += int(val[j]) * 10**(len(val)-1-j)\n",
    "\n",
    "            if num not in per_list:\n",
    "                per_list.append(num)\n",
    "    \n",
    "    for i in per_list:\n",
    "        num = []\n",
    "        for j in range(2, i+1):\n",
    "            if i % j == 0:\n",
    "                num.append(j)\n",
    "\n",
    "        if len(num) == 1:\n",
    "            answer += 1\n",
    "        else:\n",
    "            pass\n",
    "    \n",
    "    return answer"
   ]
  },
  {
   "cell_type": "code",
   "execution_count": 103,
   "metadata": {},
   "outputs": [
    {
     "data": {
      "text/plain": [
       "2"
      ]
     },
     "execution_count": 103,
     "metadata": {},
     "output_type": "execute_result"
    }
   ],
   "source": [
    "solution(\"011\")"
   ]
  },
  {
   "cell_type": "markdown",
   "metadata": {},
   "source": [
    "2번과 10번이 또 시간초과가 뜸 -> 조건을 더 걸어서 거르는 작업을 해야..할것같음.."
   ]
  },
  {
   "cell_type": "markdown",
   "metadata": {},
   "source": [
    "할 수 있는게\n",
    "1. 맨앞자리가 0이면 보지않는 것\n",
    "2. 소수찾기를 간단하게 할 수 있는 방법 찾기\n",
    "    - 참고 https://coding-of-today.tistory.com/169"
   ]
  },
  {
   "cell_type": "code",
   "execution_count": 124,
   "metadata": {},
   "outputs": [],
   "source": [
    "from itertools import permutations\n",
    "\n",
    "# 소수 판별을 제곱근까지만 확인\n",
    "def is_prime(n):\n",
    "    if n < 2:\n",
    "        return False\n",
    "    for i in range(2, int(n**0.5) + 1):\n",
    "        if n % i == 0: # 나눠떨어지는 숫자가 있으면 소수 X\n",
    "            return False\n",
    "    return True # 전부 나눠떨어지지않으면 소수\n",
    "\n",
    "def solution(numbers):\n",
    "    answer = 0\n",
    "\n",
    "    # 순열찾기\n",
    "    per_list = []\n",
    "    for i in range(1, len(numbers)+1):\n",
    "        for val in permutations(numbers, i):\n",
    "            num = 0\n",
    "            for j in range(0, len(val)):\n",
    "                if val[j] == 0:\n",
    "                    pass\n",
    "                else:\n",
    "                    num += int(val[j]) * 10**(len(val)-1-j)\n",
    "\n",
    "            if num not in per_list:\n",
    "                per_list.append(num)\n",
    "    \n",
    "    # 소수개수확인\n",
    "    for num in per_list:\n",
    "        if is_prime(num):\n",
    "            answer += 1\n",
    "    \n",
    "    return answer"
   ]
  },
  {
   "cell_type": "code",
   "execution_count": 123,
   "metadata": {},
   "outputs": [
    {
     "data": {
      "text/plain": [
       "938"
      ]
     },
     "execution_count": 123,
     "metadata": {},
     "output_type": "execute_result"
    }
   ],
   "source": [
    "solution(\"1258794\")"
   ]
  },
  {
   "cell_type": "markdown",
   "metadata": {},
   "source": [
    "---"
   ]
  }
 ],
 "metadata": {
  "kernelspec": {
   "display_name": "Python 3",
   "language": "python",
   "name": "python3"
  },
  "language_info": {
   "codemirror_mode": {
    "name": "ipython",
    "version": 3
   },
   "file_extension": ".py",
   "mimetype": "text/x-python",
   "name": "python",
   "nbconvert_exporter": "python",
   "pygments_lexer": "ipython3",
   "version": "3.12.1"
  }
 },
 "nbformat": 4,
 "nbformat_minor": 2
}
