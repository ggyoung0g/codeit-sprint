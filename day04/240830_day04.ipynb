{
 "cells": [
  {
   "cell_type": "markdown",
   "metadata": {},
   "source": [
    "---"
   ]
  },
  {
   "cell_type": "markdown",
   "metadata": {},
   "source": [
    "오늘은 이전에 했던 연결리스트를 조금 했다가.. <br/>\n",
    "이번주에 수업과 프로젝트가 병행되어서 너무 빡센주라서 조금만 하고! <br/>\n",
    "우리가 취업하기위해서 필요한것....? 어떤 길로 취업할 수 있는지에대해서 얘기를 해보았다.. <br/>\n",
    "머리가 많이 어지러웠다...! 역시 공부에는 끝이없구나 싶은 날...,,, <br/>\n",
    "그래도 역시 배우면 재미있을 것 같지만, 우선 빨리 현재 하고있는 것도 먼저 열심히 익혀두자..!!\n"
   ]
  },
  {
   "cell_type": "markdown",
   "metadata": {},
   "source": [
    "---"
   ]
  },
  {
   "cell_type": "markdown",
   "metadata": {},
   "source": [
    "# 실습"
   ]
  },
  {
   "cell_type": "markdown",
   "metadata": {},
   "source": [
    "### 구조와 기능\n",
    "\n",
    "1. 연결 리스트 구조 및 노드 생성\n",
    "2. 노드 추가 / 삽입\n",
    "3. 연결 리스트 출력\n",
    "4. 노드 탐색 / 출력\n",
    "5. 노드 삭제\n",
    "6. 노드 개수 세기\n"
   ]
  },
  {
   "cell_type": "markdown",
   "metadata": {},
   "source": [
    "이전 시간에 마무리한 코드 <br/>\n",
    "delete 부분 완성시키기.."
   ]
  },
  {
   "cell_type": "code",
   "execution_count": 17,
   "metadata": {},
   "outputs": [],
   "source": [
    "class Node:\n",
    "    def __init__(self, data, next=None): #, next=None) -> None:\n",
    "        self.data = data # 자료\n",
    "        self.next = next # 다음노드주소\n",
    "\n",
    "\n",
    "class LinkedList:\n",
    "    def __init__(self) -> None:\n",
    "        self.head = None\n",
    "        self.tail = None\n",
    "\n",
    "        self.length = 0\n",
    "\n",
    "    def append(self, value):\n",
    "        # 맨끝에\n",
    "        node = Node(value)\n",
    "        if not self.head:\n",
    "            self.head = node\n",
    "            self.tail = node\n",
    "            self.length += 1\n",
    "        else:\n",
    "            self.tail.next = node\n",
    "            self.tail = node\n",
    "            self.length += 1\n",
    "\n",
    "    def prepend(self, value):\n",
    "        # 맨앞에\n",
    "        if not self.head:\n",
    "            node = Node(value)\n",
    "            self.head = node\n",
    "            self.tail = node\n",
    "            self.length += 1\n",
    "        else:\n",
    "            node = Node(value, self.head)\n",
    "            self.head = node\n",
    "            self.length += 1\n",
    "\n",
    "\n",
    "    def insert_after(self, node_value, value):\n",
    "        # 해당 데이터 뒤에 넣기 node_value - 찾을값, value 넣을 값\n",
    "        find_node = self.find(node_value)\n",
    "\n",
    "        # node_valu가 없을 때\n",
    "        if not find_node:\n",
    "            print(f\"같은 값을 찾지 못했습니다. : {node_value}\")\n",
    "            return\n",
    "\n",
    "        in_node = Node(value)\n",
    "        in_node.next = find_node\n",
    "        find_node.next = in_node\n",
    "        self.length += 1\n",
    "\n",
    "\n",
    "    def delete_head(self):\n",
    "        # 맨앞 삭제\n",
    "        self.head = self.head.next\n",
    "        self.length -= 1\n",
    "\n",
    "    def delete_tail():\n",
    "        # 맨뒤 삭제\n",
    "        # 문제점 맨뒤 노드 바로 앞에있는걸 찾아야하는데 어떻게 찾지?\n",
    "        pass\n",
    "\n",
    "    def delete_after(self, node_value):\n",
    "        # 해당노드 뒤 삭제, 앞에꺼랑 뒤에꺼랑 합쳐줘야하는데 !!! 어떻게?\n",
    "        find_node = self.find(node_value)\n",
    "\n",
    "\n",
    "    def find(self, value):\n",
    "        find_node = self.head\n",
    "        while find_node:\n",
    "            if find_node.data == value:\n",
    "                return find_node\n",
    "            find_node = find_node.next\n",
    "        return None # 같은 값을 못찾았을 때"
   ]
  },
  {
   "cell_type": "code",
   "execution_count": 23,
   "metadata": {},
   "outputs": [
    {
     "name": "stdout",
     "output_type": "stream",
     "text": [
      "같은 값을 찾지 못했습니다. : 4\n"
     ]
    }
   ],
   "source": [
    "ll = LinkedList()\n",
    "ll.prepend(3)\n",
    "ll.prepend(1)\n",
    "ll.prepend(0)\n",
    "ll.insert_after(4, 1)\n",
    "ll.insert_after(1, 2)\n",
    "ll.delete_head()\n"
   ]
  },
  {
   "cell_type": "code",
   "execution_count": 24,
   "metadata": {},
   "outputs": [
    {
     "data": {
      "text/plain": [
       "1"
      ]
     },
     "execution_count": 24,
     "metadata": {},
     "output_type": "execute_result"
    }
   ],
   "source": [
    "ll.head.data"
   ]
  },
  {
   "cell_type": "code",
   "execution_count": 98,
   "metadata": {},
   "outputs": [
    {
     "data": {
      "text/plain": [
       "0"
      ]
     },
     "execution_count": 98,
     "metadata": {},
     "output_type": "execute_result"
    }
   ],
   "source": [
    "ll.print_ll()"
   ]
  },
  {
   "cell_type": "code",
   "execution_count": 100,
   "metadata": {},
   "outputs": [
    {
     "name": "stdout",
     "output_type": "stream",
     "text": [
      "같은 값을 찾지 못했습니다. : 5\n"
     ]
    }
   ],
   "source": [
    "ll = LinkedList()\n",
    "ll.append(1)\n",
    "ll.append(2)\n",
    "ll.append(4)\n",
    "ll.insert_after(2,3)\n",
    "ll.prepend(0)\n",
    "ll.insert_after(5,6)"
   ]
  },
  {
   "cell_type": "code",
   "execution_count": 68,
   "metadata": {},
   "outputs": [
    {
     "data": {
      "text/plain": [
       "3"
      ]
     },
     "execution_count": 68,
     "metadata": {},
     "output_type": "execute_result"
    }
   ],
   "source": [
    "ll.head.next.next.next.data"
   ]
  },
  {
   "cell_type": "code",
   "execution_count": 56,
   "metadata": {},
   "outputs": [],
   "source": [
    "ll = LinkedList()\n",
    "ll.append('김상민')\n",
    "ll.append('박건웅')\n",
    "ll.append('이다경')\n",
    "ll.insert_after('박건웅', '손동현')"
   ]
  },
  {
   "cell_type": "code",
   "execution_count": 103,
   "metadata": {},
   "outputs": [],
   "source": [
    "ll = LinkedList()\n",
    "ll.append('김상민')\n",
    "ll.append('박건웅')\n",
    "ll.append('이다경')\n",
    "ll.insert_after('박건웅', '손동현')\n",
    "ll.prepend('자알팀 : ')\n",
    "ll.delete_head()"
   ]
  },
  {
   "cell_type": "code",
   "execution_count": 98,
   "metadata": {},
   "outputs": [
    {
     "data": {
      "text/plain": [
       "<__main__.Node at 0x1ee69b77140>"
      ]
     },
     "execution_count": 98,
     "metadata": {},
     "output_type": "execute_result"
    }
   ],
   "source": [
    "ll.find('이다경')"
   ]
  },
  {
   "cell_type": "code",
   "execution_count": 104,
   "metadata": {},
   "outputs": [
    {
     "data": {
      "text/plain": [
       "'김상민'"
      ]
     },
     "execution_count": 104,
     "metadata": {},
     "output_type": "execute_result"
    }
   ],
   "source": [
    "ll.head.data"
   ]
  },
  {
   "cell_type": "markdown",
   "metadata": {},
   "source": [
    "---"
   ]
  },
  {
   "cell_type": "markdown",
   "metadata": {},
   "source": [
    "Linked List\n",
    "1. Insertion Methods <br/>\n",
    "append(value): Adds a new node with the given value to the end of the list. <br/>\n",
    "prepend(value): Adds a new node with the given value to the beginning of the list. <br/>\n",
    "insert_after(node, value): Inserts a new node with the given value after a specified node in the list. <br/>\n",
    "\n",
    "2. Deletion Methods\n",
    "delete(value): Removes the first node with the specified value from the list. <br/>\n",
    "delete_head(): Removes the head (first node) of the list. <br/>\n",
    "delete_tail(): Removes the tail (last node) of the list. <br/>\n",
    "delete_after(node): Removes the node immediately following the specified node. <br/>\n",
    "\n",
    "3. Traversal Methods <br/>\n",
    "find(value): Searches for a node containing the specified value and returns it if found. <br/>\n",
    "traverse(): Iterates over all nodes in the list, typically used to print the values or perform some action on each node. <br/>\n",
    "\n",
    "4. Utility Methods\n",
    "size(): Returns the number of nodes in the list. <br/>\n",
    "is_empty(): Checks if the list is empty. <br/>\n",
    "reverse(): Reverses the order of the nodes in the list. <br/>\n",
    "get_head(): Returns the head (first node) of the list. <br/>\n",
    "get_tail(): Returns the tail (last node) of the list. <br/>\n",
    "\n",
    "5. Display Method\n",
    "__str__() or __repr__(): Provides a string representation of the list for easy visualization. <br/>\n",
    "\n",
    "6. Optional Methods\n",
    "sort(): Sorts the elements of the linked list. <br/>\n",
    "merge(other_list): Merges another linked list into the current list. <br/>"
   ]
  },
  {
   "cell_type": "markdown",
   "metadata": {},
   "source": [
    "Doubly Linked List\n",
    "1. Insertion Methods <br/>\n",
    "append(value): Adds a new node with the given value to the end of the list. <br/>\n",
    "prepend(value): Adds a new node with the given value to the beginning of the list. <br/>\n",
    "insert_after(node, value): Inserts a new node with the given value after a specified node. <br/>\n",
    "insert_before(node, value): Inserts a new node with the given value before a specified node. <br/>\n",
    "\n",
    "2. Deletion Methods\n",
    "delete(value): Removes the first node with the specified value from the list. <br/>\n",
    "delete_head(): Removes the head (first node) of the list. <br/>\n",
    "delete_tail(): Removes the tail (last node) of the list. <br/>\n",
    "delete_node(node): Removes a specific node from the list. <br/>\n",
    "\n",
    "3. Traversal Methods\n",
    "find(value): Searches for a node containing the specified value and returns it if found. <br/>\n",
    "traverse_forward(): Iterates over the list from the head to the tail, typically used to print the values or perform some action on each node. <br/>\n",
    "traverse_backward(): Iterates over the list from the tail to the head, useful for certain algorithms or simply to display the list in reverse order. <br/>\n",
    "\n",
    "4. Utility Methods\n",
    "size(): Returns the number of nodes in the list. <br/>\n",
    "is_empty(): Checks if the list is empty. <br/>\n",
    "reverse(): Reverses the order of the nodes in the list by swapping the next and previous pointers. <br/>\n",
    "get_head(): Returns the head (first node) of the list. <br/>\n",
    "get_tail(): Returns the tail (last node) of the list. <br/>\n",
    "\n",
    "5. Display Methods\n",
    "__str__() or __repr__(): Provides a string representation of the list for easy visualization, either forward or backward. <br/>\n",
    "\n",
    "6. Optional Methods\n",
    "sort(): Sorts the elements of the doubly linked list. <br/>\n",
    "merge(other_list): Merges another doubly linked list into the current list. <br/>"
   ]
  },
  {
   "cell_type": "markdown",
   "metadata": {},
   "source": [
    "---"
   ]
  },
  {
   "cell_type": "markdown",
   "metadata": {},
   "source": [
    "### 연결 리스트 실행"
   ]
  },
  {
   "cell_type": "markdown",
   "metadata": {},
   "source": [
    "1. 연결 리스트 생성"
   ]
  },
  {
   "cell_type": "code",
   "execution_count": 6,
   "metadata": {},
   "outputs": [],
   "source": [
    "ll = LinkedList()"
   ]
  },
  {
   "cell_type": "markdown",
   "metadata": {},
   "source": [
    "2. 노드 추가 / 삽입"
   ]
  },
  {
   "cell_type": "code",
   "execution_count": null,
   "metadata": {},
   "outputs": [],
   "source": [
    "ll.insert_at(0, 1)\n",
    "ll.insert_at(1, 2)\n",
    "ll.insert_at(2, 3)\n",
    "ll.insert_at(3, 4)\n",
    "ll.insert_at(2, 2.5)"
   ]
  },
  {
   "cell_type": "markdown",
   "metadata": {},
   "source": [
    "3. 연결 리스트 출력\n",
    "\n",
    "expected output:  \n",
    "\n",
    "`1 -> 2 -> 2.5 -> 3 -> 4`"
   ]
  },
  {
   "cell_type": "code",
   "execution_count": null,
   "metadata": {},
   "outputs": [],
   "source": [
    "ll.print_ll()"
   ]
  },
  {
   "cell_type": "markdown",
   "metadata": {},
   "source": [
    "4. 노드 탐색 / 출력\n",
    "\n",
    "expected output:  \n",
    "\n",
    "`2.5`"
   ]
  },
  {
   "cell_type": "code",
   "execution_count": 7,
   "metadata": {},
   "outputs": [],
   "source": [
    "ll.iloc(2)"
   ]
  },
  {
   "cell_type": "markdown",
   "metadata": {},
   "source": [
    "5. 노드 삭제  \n",
    "\n",
    "expected output:  \n",
    "\n",
    "`1 -> 2 -> 3 -> 4`"
   ]
  },
  {
   "cell_type": "code",
   "execution_count": 8,
   "metadata": {},
   "outputs": [],
   "source": [
    "ll.remove_at(2)\n",
    "ll.print_ll()"
   ]
  },
  {
   "cell_type": "markdown",
   "metadata": {},
   "source": [
    "6. 노드 개수 세기\n",
    "\n",
    "expected output:\n",
    "\n",
    "`4`"
   ]
  },
  {
   "cell_type": "code",
   "execution_count": 9,
   "metadata": {},
   "outputs": [],
   "source": [
    "ll.get_len()"
   ]
  },
  {
   "cell_type": "markdown",
   "metadata": {},
   "source": [
    "# 심화 실습"
   ]
  },
  {
   "cell_type": "markdown",
   "metadata": {},
   "source": [
    "양방향 연결 리스트(Doubly Linked List)를 구현해보세요."
   ]
  },
  {
   "cell_type": "code",
   "execution_count": null,
   "metadata": {},
   "outputs": [],
   "source": [
    "class Node:\n",
    "    def __init__(self, data=None, prev=None, next=None) -> None:\n",
    "        self.prev = prev\n",
    "        self.data = data\n",
    "        self.next = next\n",
    "\n",
    "class DoublyLinkedList:\n",
    "    def __init__(self) -> None:\n",
    "        self.head = None\n",
    "    \n",
    "    def insert_at(self):\n",
    "        pass\n",
    "    \n",
    "    def print_forward(self):\n",
    "        pass\n",
    "    \n",
    "    def print_backward(self):\n",
    "        pass\n",
    "    \n",
    "    def iloc(self):\n",
    "        pass\n",
    "    \n",
    "    def remove_at(self):\n",
    "        pass\n",
    "    \n",
    "    def get_len(self):\n",
    "        pass    "
   ]
  },
  {
   "cell_type": "markdown",
   "metadata": {},
   "source": [
    "### 양방향 연결 리스트 실행"
   ]
  },
  {
   "cell_type": "markdown",
   "metadata": {},
   "source": [
    "1. 연결 리스트 생성"
   ]
  },
  {
   "cell_type": "code",
   "execution_count": null,
   "metadata": {},
   "outputs": [],
   "source": [
    "dll = DoublyLinkedList()"
   ]
  },
  {
   "cell_type": "markdown",
   "metadata": {},
   "source": [
    "2. 노드 추가 / 삽입"
   ]
  },
  {
   "cell_type": "code",
   "execution_count": null,
   "metadata": {},
   "outputs": [],
   "source": [
    "dll.insert_at(1, 2)\n",
    "dll.insert_at(2, 3)\n",
    "dll.insert_at(3, 4)\n",
    "dll.insert_at(0, 1)\n",
    "dll.insert_at(2, 2.5)"
   ]
  },
  {
   "cell_type": "markdown",
   "metadata": {},
   "source": [
    "3. 연결 리스트 출력\n",
    "\n",
    "expected output:  \n",
    "\n",
    "`1 -> 2 -> 2.5 -> 3 -> 4`  \n",
    "`4 -> 3 - > 2.5 -> 2 -> 1`"
   ]
  },
  {
   "cell_type": "code",
   "execution_count": null,
   "metadata": {},
   "outputs": [],
   "source": [
    "dll.print_forward()\n",
    "dll.print_backward()"
   ]
  },
  {
   "cell_type": "markdown",
   "metadata": {},
   "source": [
    "4. 노드 탐색 / 출력\n",
    "\n",
    "expected output:  \n",
    "\n",
    "`2.5`"
   ]
  },
  {
   "cell_type": "code",
   "execution_count": null,
   "metadata": {},
   "outputs": [],
   "source": [
    "dll.iloc(2)"
   ]
  },
  {
   "cell_type": "markdown",
   "metadata": {},
   "source": [
    "5. 노드 삭제  \n",
    "\n",
    "expected output:  \n",
    "\n",
    "`1 -> 2 -> 3 -> 4`  \n",
    "`4 -> 3 -> 2 -> 1`"
   ]
  },
  {
   "cell_type": "code",
   "execution_count": null,
   "metadata": {},
   "outputs": [],
   "source": [
    "dll.remove_at(2)\n",
    "dll.print_forward()\n",
    "dll.print_backward()"
   ]
  },
  {
   "cell_type": "markdown",
   "metadata": {},
   "source": [
    "6. 노드 개수 세기\n",
    "\n",
    "expected output:\n",
    "\n",
    "`4`"
   ]
  },
  {
   "cell_type": "code",
   "execution_count": null,
   "metadata": {},
   "outputs": [],
   "source": [
    "dll.get_len()"
   ]
  }
 ],
 "metadata": {
  "kernelspec": {
   "display_name": "Python 3",
   "language": "python",
   "name": "python3"
  },
  "language_info": {
   "codemirror_mode": {
    "name": "ipython",
    "version": 3
   },
   "file_extension": ".py",
   "mimetype": "text/x-python",
   "name": "python",
   "nbconvert_exporter": "python",
   "pygments_lexer": "ipython3",
   "version": "3.12.1"
  }
 },
 "nbformat": 4,
 "nbformat_minor": 2
}
