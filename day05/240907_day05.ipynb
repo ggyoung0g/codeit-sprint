{
 "cells": [
  {
   "cell_type": "markdown",
   "metadata": {},
   "source": [
    "---"
   ]
  },
  {
   "cell_type": "markdown",
   "metadata": {},
   "source": [
    "완전탐색 알고리즘 관련 내용(유튜브) 보고오기 + 프로그래머스에서 문제를 풀면서 진행! <br/>\n",
    "1. 완전탐색\n",
    "2. 이분탐색법\n",
    "3. 해시\n",
    "4. 힙 <br/>\n",
    ".. 아마 이순서대로 진행할 것 같다! \n",
    "\n",
    "프로그래머스로 진행하는건 다음주부터 하기로했고, 이번 시간은 저번에 마무리 못 지은 연결리스트를 마무리 하는 작업을 했다. <br/>\n",
    "거의 마무리 했는데, 생각할게 계속 생기다보니 너무 헷갈렸다!! <br/>\n",
    "그래도 직접 코드를 짜면서 생각해보는 시간이 재미있었다. <br/>\n",
    "find를 해당부분만 찾는걸 했더니 이전이나 이후껄 찾는게 애매해져버려서 그냥 이전이랑 이후꺼를 한번에 가져오는 코드로 바꿔버렸다. <br/>\n",
    "바꾸면서도 이것저것 오류나서 애를 먹었짐나, 그래도 실행했을 때 구동되게 코드를 마무리 한 것 같아서 다행이였다..! =)<br/>"
   ]
  },
  {
   "cell_type": "markdown",
   "metadata": {},
   "source": [
    "---"
   ]
  },
  {
   "cell_type": "markdown",
   "metadata": {},
   "source": [
    "# 실습"
   ]
  },
  {
   "cell_type": "markdown",
   "metadata": {},
   "source": [
    "### 구조와 기능\n",
    "\n",
    "1. 연결 리스트 구조 및 노드 생성\n",
    "2. 노드 추가 / 삽입\n",
    "3. 연결 리스트 출력\n",
    "4. 노드 탐색 / 출력\n",
    "5. 노드 삭제\n",
    "6. 노드 개수 세기\n"
   ]
  },
  {
   "cell_type": "code",
   "execution_count": 80,
   "metadata": {},
   "outputs": [],
   "source": [
    "class Node:\n",
    "    def __init__(self, data, next=None): #, next=None) -> None:\n",
    "        self.data = data # 자료\n",
    "        self.next = next # 다음노드주소\n",
    "\n",
    "\n",
    "class LinkedList:\n",
    "    def __init__(self) -> None:\n",
    "        self.head = None\n",
    "        self.tail = None\n",
    "\n",
    "        self.length = 0\n",
    "\n",
    "    def append(self, value):\n",
    "        # 맨끝에\n",
    "        node = Node(value)\n",
    "        if not self.head:\n",
    "            self.head = node\n",
    "            self.tail = node\n",
    "        else:\n",
    "            self.tail.next = node\n",
    "            self.tail = node\n",
    "        self.length += 1\n",
    "\n",
    "    def prepend(self, value):\n",
    "        # 맨앞에\n",
    "        if not self.head:\n",
    "            node = Node(value)\n",
    "            self.head = node\n",
    "            self.tail = node\n",
    "        else:\n",
    "            node = Node(value, self.head)\n",
    "            self.head = node\n",
    "        self.length += 1\n",
    "\n",
    "\n",
    "    def insert_after(self, node_value, value):\n",
    "        # value 데이터 node_value 뒤에 넣기 (node_value - 찾을값, value 넣을 값)\n",
    "        prev_node, current_node, next_node = self.find(node_value)\n",
    "\n",
    "        # node_valu가 없을 때\n",
    "        if not current_node:\n",
    "            print(f\"같은 값을 찾지 못했습니다. : {node_value}\")\n",
    "            return\n",
    "\n",
    "        # node_value를 찾았고, 새로운 value 노드를 만들면서 다음 노드 알려주기\n",
    "        new_node = Node(value, next_node)\n",
    "        current_node.next = new_node\n",
    "\n",
    "        if current_node == self.tail: # node_value가 tail이랑 같으면 tail 업데이트\n",
    "            self.tail = new_node\n",
    "\n",
    "        self.length += 1\n",
    "\n",
    "\n",
    "    def delete_head(self):\n",
    "        # 맨앞 삭제\n",
    "        if not self.head:\n",
    "            print(\"리스트가 비어 있습니다.\")\n",
    "            return\n",
    "\n",
    "        self.head = self.head.next\n",
    "        self.length -= 1\n",
    "        \n",
    "        # 맨앞을 삭제해서 리스트가 비어진경우\n",
    "        if not self.head:\n",
    "            self.tail = None\n",
    "\n",
    "\n",
    "    def delete_tail(self):\n",
    "        # 맨뒤 삭제\n",
    "        if not self.head:\n",
    "            print(\"리스트가 비어 있습니다.\")\n",
    "            return\n",
    "        \n",
    "        if self.head == self.tail:\n",
    "            self.head = None\n",
    "            self.tail = None\n",
    "            self.length -= 1\n",
    "            return\n",
    "\n",
    "        prev_node, current_node, next_node = self.find(self.tail.data)\n",
    "        \n",
    "        if prev_node:\n",
    "            prev_node.next = None\n",
    "            self.tail = prev_node\n",
    "        \n",
    "        self.length -= 1\n",
    "\n",
    "\n",
    "    def delete_after(self, node_value):\n",
    "        prev_node, current_node, next_node = self.find(node_value)\n",
    "\n",
    "        if not current_node:\n",
    "            print(f\"'{node_value}' 노드를 찾을 수 없습니다.\")\n",
    "            return\n",
    "        \n",
    "        if not next_node:\n",
    "            print(f\"'{node_value}' 뒤에 삭제할 노드가 없습니다.\")\n",
    "            return\n",
    "\n",
    "        current_node.next = next_node.next # 해당노드 뒤 삭제, 해당 노드와 다음다음노트 붙히기\n",
    "\n",
    "        if next_node == self.tail:\n",
    "            self.tail = current_node\n",
    "\n",
    "        self.length -= 1\n",
    "\n",
    "\n",
    "    def find(self, value):\n",
    "        # value 찾는노드\n",
    "        # 이전노드, 현재노드, 다음노드 까지 한번에 보여주기\n",
    "        prev_node = None # 이전\n",
    "        current_node = self.head # 현재\n",
    "\n",
    "        while current_node:\n",
    "            if current_node.data == value:\n",
    "                if current_node == self.tail: # 현재노드가 tail이면 next_node가 없음\n",
    "                    next_node = None\n",
    "                else:\n",
    "                    next_node = current_node.next # 다음\n",
    "                return prev_node, current_node, next_node\n",
    "            \n",
    "            prev_node = current_node\n",
    "            current_node = current_node.next\n",
    "\n",
    "        return None, None, None # 같은 값을 못찾았을 때\n",
    "    \n",
    "\n",
    "    def print_list(self):\n",
    "        if not self.head:\n",
    "            print(\"노드가 비어 있습니다.\")\n",
    "            return \n",
    "        \n",
    "        current = self.head\n",
    "        print(f'해당 노드의 총 개수는 {self.length}개 입니다.')\n",
    "        while current:\n",
    "            if current.next:\n",
    "                print(current.data, end = ' -> ')\n",
    "            else:\n",
    "                print(current.data)\n",
    "            current = current.next\n",
    "        "
   ]
  },
  {
   "cell_type": "code",
   "execution_count": 75,
   "metadata": {},
   "outputs": [
    {
     "name": "stdout",
     "output_type": "stream",
     "text": [
      "같은 값을 찾지 못했습니다. : 4\n"
     ]
    }
   ],
   "source": [
    "ll = LinkedList()\n",
    "ll.prepend(3)\n",
    "ll.prepend(1)\n",
    "ll.prepend(0)\n",
    "ll.insert_after(4, 1)\n",
    "ll.insert_after(1, 2)\n",
    "ll.delete_head()\n",
    "ll.delete_tail()"
   ]
  },
  {
   "cell_type": "code",
   "execution_count": 76,
   "metadata": {},
   "outputs": [
    {
     "name": "stdout",
     "output_type": "stream",
     "text": [
      "해당 노드의 총 개수는 2개 입니다.\n",
      "1 -> 2\n"
     ]
    }
   ],
   "source": [
    "ll.print_list()"
   ]
  },
  {
   "cell_type": "code",
   "execution_count": 51,
   "metadata": {},
   "outputs": [],
   "source": [
    "ll = LinkedList()\n",
    "ll.append('김상민')\n",
    "ll.append('박건웅')\n",
    "ll.append('이다경')\n",
    "ll.insert_after('박건웅', '손동현')"
   ]
  },
  {
   "cell_type": "code",
   "execution_count": 77,
   "metadata": {},
   "outputs": [],
   "source": [
    "ll = LinkedList()\n",
    "ll.append('김상민')\n",
    "ll.append('박건웅')\n",
    "ll.append('이다경')\n",
    "ll.insert_after('박건웅', '손동현')\n",
    "ll.prepend('자알팀 : ')\n",
    "ll.delete_head()"
   ]
  },
  {
   "cell_type": "code",
   "execution_count": 78,
   "metadata": {},
   "outputs": [
    {
     "name": "stdout",
     "output_type": "stream",
     "text": [
      "해당 노드의 총 개수는 4개 입니다.\n",
      "김상민 -> 박건웅 -> 손동현 -> 이다경\n"
     ]
    }
   ],
   "source": [
    "ll.print_list()"
   ]
  },
  {
   "cell_type": "markdown",
   "metadata": {},
   "source": [
    "---"
   ]
  },
  {
   "cell_type": "markdown",
   "metadata": {},
   "source": [
    "Linked List\n",
    "1. Insertion Methods <br/>\n",
    "append(value): Adds a new node with the given value to the end of the list. <br/>\n",
    "prepend(value): Adds a new node with the given value to the beginning of the list. <br/>\n",
    "insert_after(node, value): Inserts a new node with the given value after a specified node in the list. <br/>\n",
    "\n",
    "2. Deletion Methods\n",
    "delete(value): Removes the first node with the specified value from the list. <br/>\n",
    "delete_head(): Removes the head (first node) of the list. <br/>\n",
    "delete_tail(): Removes the tail (last node) of the list. <br/>\n",
    "delete_after(node): Removes the node immediately following the specified node. <br/>\n",
    "\n",
    "3. Traversal Methods <br/>\n",
    "find(value): Searches for a node containing the specified value and returns it if found. <br/>\n",
    "traverse(): Iterates over all nodes in the list, typically used to print the values or perform some action on each node. <br/>\n",
    "\n",
    "4. Utility Methods\n",
    "size(): Returns the number of nodes in the list. <br/>\n",
    "is_empty(): Checks if the list is empty. <br/>\n",
    "reverse(): Reverses the order of the nodes in the list. <br/>\n",
    "get_head(): Returns the head (first node) of the list. <br/>\n",
    "get_tail(): Returns the tail (last node) of the list. <br/>\n",
    "\n",
    "5. Display Method\n",
    "__str__() or __repr__(): Provides a string representation of the list for easy visualization. <br/>\n",
    "\n",
    "6. Optional Methods\n",
    "sort(): Sorts the elements of the linked list. <br/>\n",
    "merge(other_list): Merges another linked list into the current list. <br/>"
   ]
  },
  {
   "cell_type": "markdown",
   "metadata": {},
   "source": [
    "Doubly Linked List\n",
    "1. Insertion Methods <br/>\n",
    "append(value): Adds a new node with the given value to the end of the list. <br/>\n",
    "prepend(value): Adds a new node with the given value to the beginning of the list. <br/>\n",
    "insert_after(node, value): Inserts a new node with the given value after a specified node. <br/>\n",
    "insert_before(node, value): Inserts a new node with the given value before a specified node. <br/>\n",
    "\n",
    "2. Deletion Methods\n",
    "delete(value): Removes the first node with the specified value from the list. <br/>\n",
    "delete_head(): Removes the head (first node) of the list. <br/>\n",
    "delete_tail(): Removes the tail (last node) of the list. <br/>\n",
    "delete_node(node): Removes a specific node from the list. <br/>\n",
    "\n",
    "3. Traversal Methods\n",
    "find(value): Searches for a node containing the specified value and returns it if found. <br/>\n",
    "traverse_forward(): Iterates over the list from the head to the tail, typically used to print the values or perform some action on each node. <br/>\n",
    "traverse_backward(): Iterates over the list from the tail to the head, useful for certain algorithms or simply to display the list in reverse order. <br/>\n",
    "\n",
    "4. Utility Methods\n",
    "size(): Returns the number of nodes in the list. <br/>\n",
    "is_empty(): Checks if the list is empty. <br/>\n",
    "reverse(): Reverses the order of the nodes in the list by swapping the next and previous pointers. <br/>\n",
    "get_head(): Returns the head (first node) of the list. <br/>\n",
    "get_tail(): Returns the tail (last node) of the list. <br/>\n",
    "\n",
    "5. Display Methods\n",
    "__str__() or __repr__(): Provides a string representation of the list for easy visualization, either forward or backward. <br/>\n",
    "\n",
    "6. Optional Methods\n",
    "sort(): Sorts the elements of the doubly linked list. <br/>\n",
    "merge(other_list): Merges another doubly linked list into the current list. <br/>"
   ]
  },
  {
   "cell_type": "markdown",
   "metadata": {},
   "source": [
    "---"
   ]
  },
  {
   "cell_type": "markdown",
   "metadata": {},
   "source": [
    "### 연결 리스트 실행"
   ]
  },
  {
   "cell_type": "markdown",
   "metadata": {},
   "source": [
    "1. 연결 리스트 생성"
   ]
  },
  {
   "cell_type": "code",
   "execution_count": 6,
   "metadata": {},
   "outputs": [],
   "source": [
    "ll = LinkedList()"
   ]
  },
  {
   "cell_type": "markdown",
   "metadata": {},
   "source": [
    "2. 노드 추가 / 삽입"
   ]
  },
  {
   "cell_type": "code",
   "execution_count": null,
   "metadata": {},
   "outputs": [],
   "source": [
    "ll.insert_at(0, 1)\n",
    "ll.insert_at(1, 2)\n",
    "ll.insert_at(2, 3)\n",
    "ll.insert_at(3, 4)\n",
    "ll.insert_at(2, 2.5)"
   ]
  },
  {
   "cell_type": "markdown",
   "metadata": {},
   "source": [
    "3. 연결 리스트 출력\n",
    "\n",
    "expected output:  \n",
    "\n",
    "`1 -> 2 -> 2.5 -> 3 -> 4`"
   ]
  },
  {
   "cell_type": "code",
   "execution_count": null,
   "metadata": {},
   "outputs": [],
   "source": [
    "ll.print_ll()"
   ]
  },
  {
   "cell_type": "markdown",
   "metadata": {},
   "source": [
    "4. 노드 탐색 / 출력\n",
    "\n",
    "expected output:  \n",
    "\n",
    "`2.5`"
   ]
  },
  {
   "cell_type": "code",
   "execution_count": 7,
   "metadata": {},
   "outputs": [],
   "source": [
    "ll.iloc(2)"
   ]
  },
  {
   "cell_type": "markdown",
   "metadata": {},
   "source": [
    "5. 노드 삭제  \n",
    "\n",
    "expected output:  \n",
    "\n",
    "`1 -> 2 -> 3 -> 4`"
   ]
  },
  {
   "cell_type": "code",
   "execution_count": 8,
   "metadata": {},
   "outputs": [],
   "source": [
    "ll.remove_at(2)\n",
    "ll.print_ll()"
   ]
  },
  {
   "cell_type": "markdown",
   "metadata": {},
   "source": [
    "6. 노드 개수 세기\n",
    "\n",
    "expected output:\n",
    "\n",
    "`4`"
   ]
  },
  {
   "cell_type": "code",
   "execution_count": 9,
   "metadata": {},
   "outputs": [],
   "source": [
    "ll.get_len()"
   ]
  },
  {
   "cell_type": "markdown",
   "metadata": {},
   "source": [
    "# 심화 실습"
   ]
  },
  {
   "cell_type": "markdown",
   "metadata": {},
   "source": [
    "양방향 연결 리스트(Doubly Linked List)를 구현해보세요."
   ]
  },
  {
   "cell_type": "code",
   "execution_count": null,
   "metadata": {},
   "outputs": [],
   "source": [
    "class Node:\n",
    "    def __init__(self, data=None, prev=None, next=None) -> None:\n",
    "        self.prev = prev\n",
    "        self.data = data\n",
    "        self.next = next\n",
    "\n",
    "class DoublyLinkedList:\n",
    "    def __init__(self) -> None:\n",
    "        self.head = None\n",
    "    \n",
    "    def insert_at(self):\n",
    "        pass\n",
    "    \n",
    "    def print_forward(self):\n",
    "        pass\n",
    "    \n",
    "    def print_backward(self):\n",
    "        pass\n",
    "    \n",
    "    def iloc(self):\n",
    "        pass\n",
    "    \n",
    "    def remove_at(self):\n",
    "        pass\n",
    "    \n",
    "    def get_len(self):\n",
    "        pass    "
   ]
  },
  {
   "cell_type": "markdown",
   "metadata": {},
   "source": [
    "### 양방향 연결 리스트 실행"
   ]
  },
  {
   "cell_type": "markdown",
   "metadata": {},
   "source": [
    "1. 연결 리스트 생성"
   ]
  },
  {
   "cell_type": "code",
   "execution_count": null,
   "metadata": {},
   "outputs": [],
   "source": [
    "dll = DoublyLinkedList()"
   ]
  },
  {
   "cell_type": "markdown",
   "metadata": {},
   "source": [
    "2. 노드 추가 / 삽입"
   ]
  },
  {
   "cell_type": "code",
   "execution_count": null,
   "metadata": {},
   "outputs": [],
   "source": [
    "dll.insert_at(1, 2)\n",
    "dll.insert_at(2, 3)\n",
    "dll.insert_at(3, 4)\n",
    "dll.insert_at(0, 1)\n",
    "dll.insert_at(2, 2.5)"
   ]
  },
  {
   "cell_type": "markdown",
   "metadata": {},
   "source": [
    "3. 연결 리스트 출력\n",
    "\n",
    "expected output:  \n",
    "\n",
    "`1 -> 2 -> 2.5 -> 3 -> 4`  \n",
    "`4 -> 3 - > 2.5 -> 2 -> 1`"
   ]
  },
  {
   "cell_type": "code",
   "execution_count": null,
   "metadata": {},
   "outputs": [],
   "source": [
    "dll.print_forward()\n",
    "dll.print_backward()"
   ]
  },
  {
   "cell_type": "markdown",
   "metadata": {},
   "source": [
    "4. 노드 탐색 / 출력\n",
    "\n",
    "expected output:  \n",
    "\n",
    "`2.5`"
   ]
  },
  {
   "cell_type": "code",
   "execution_count": null,
   "metadata": {},
   "outputs": [],
   "source": [
    "dll.iloc(2)"
   ]
  },
  {
   "cell_type": "markdown",
   "metadata": {},
   "source": [
    "5. 노드 삭제  \n",
    "\n",
    "expected output:  \n",
    "\n",
    "`1 -> 2 -> 3 -> 4`  \n",
    "`4 -> 3 -> 2 -> 1`"
   ]
  },
  {
   "cell_type": "code",
   "execution_count": null,
   "metadata": {},
   "outputs": [],
   "source": [
    "dll.remove_at(2)\n",
    "dll.print_forward()\n",
    "dll.print_backward()"
   ]
  },
  {
   "cell_type": "markdown",
   "metadata": {},
   "source": [
    "6. 노드 개수 세기\n",
    "\n",
    "expected output:\n",
    "\n",
    "`4`"
   ]
  },
  {
   "cell_type": "code",
   "execution_count": null,
   "metadata": {},
   "outputs": [],
   "source": [
    "dll.get_len()"
   ]
  }
 ],
 "metadata": {
  "kernelspec": {
   "display_name": "Python 3",
   "language": "python",
   "name": "python3"
  },
  "language_info": {
   "codemirror_mode": {
    "name": "ipython",
    "version": 3
   },
   "file_extension": ".py",
   "mimetype": "text/x-python",
   "name": "python",
   "nbconvert_exporter": "python",
   "pygments_lexer": "ipython3",
   "version": "3.12.1"
  }
 },
 "nbformat": 4,
 "nbformat_minor": 2
}
